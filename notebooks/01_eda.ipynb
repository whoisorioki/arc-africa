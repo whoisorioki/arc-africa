{
 "cells": [
  {
   "cell_type": "code",
   "execution_count": 20,
   "id": "c76559d4",
   "metadata": {},
   "outputs": [
    {
     "name": "stdout",
     "output_type": "stream",
     "text": [
      "1\n",
      "2\n",
      "((np.int64(0), np.int64(0)), (np.int64(0), np.int64(1)))\n",
      "[[1 1]]\n"
     ]
    }
   ],
   "source": [
    "import numpy as np\n",
    "import sys\n",
    "import os\n",
    "\n",
    "# Add project root to sys.path so 'src' is importable\n",
    "project_root = os.path.abspath(os.path.join(os.getcwd(), \"..\"))\n",
    "if project_root not in sys.path:\n",
    "    sys.path.insert(0, project_root)\n",
    "\n",
    "from src.data_pipeline.segmentation import segment_grid\n",
    "\n",
    "grid = np.array([[1, 1, 0], [0, 2, 2]])\n",
    "objects = segment_grid(grid)\n",
    "print(objects[0]['color'])\n",
    "print(objects[0]['size'])\n",
    "print(objects[0]['bounding_box'])\n",
    "print(objects[0]['pixel_mask'])\n"
   ]
  },
  {
   "cell_type": "code",
   "execution_count": 21,
   "id": "a08fd6df",
   "metadata": {},
   "outputs": [
    {
     "name": "stdout",
     "output_type": "stream",
     "text": [
      "[[2 4]\n",
      " [1 3]]\n"
     ]
    }
   ],
   "source": [
    "from src.dsl.primitives import rotate90\n",
    "\n",
    "grid = np.array([[1, 2], [3, 4]])\n",
    "print(rotate90(grid))"
   ]
  },
  {
   "cell_type": "code",
   "execution_count": 27,
   "id": "b35eb210",
   "metadata": {},
   "outputs": [
    {
     "name": "stdout",
     "output_type": "stream",
     "text": [
      "24\n"
     ]
    }
   ],
   "source": [
    "from src.data_pipeline.augmentation import  augment_demonstrations\n",
    "\n",
    "demo_pairs = [(np.array([[1, 2], [3, 4]]), np.array([[4, 3], [2, 1]]))]\n",
    "augmented = augment_demonstrations(demo_pairs)\n",
    "print(len(augmented))"
   ]
  },
  {
   "cell_type": "code",
   "execution_count": 22,
   "id": "fe907a61",
   "metadata": {},
   "outputs": [
    {
     "name": "stdout",
     "output_type": "stream",
     "text": [
      "[[2 4]\n",
      " [1 3]]\n",
      "[[2 1]\n",
      " [4 3]]\n",
      "[[1 3]\n",
      " [2 4]]\n",
      "[[4 2]\n",
      " [3 1]]\n"
     ]
    }
   ],
   "source": [
    "from src.dsl.primitives import rotate90, horizontal_mirror\n",
    "\n",
    "inp = np.array([[1, 2], [3, 4]])\n",
    "out = np.array([[3, 1], [4, 2]])\n",
    "\n",
    "print(rotate90(inp))                # [[2 4], [1 3]]\n",
    "print(horizontal_mirror(inp))       # [[2 1], [4 3]]\n",
    "print(rotate90(horizontal_mirror(inp)))  # [[1 3], [2 4]]\n",
    "print(horizontal_mirror(rotate90(inp)))  # [[4 2], [2 1]]"
   ]
  },
  {
   "cell_type": "code",
   "execution_count": 25,
   "id": "e8e4999a",
   "metadata": {},
   "outputs": [
    {
     "name": "stdout",
     "output_type": "stream",
     "text": [
      "[<function rotate90 at 0x0000016DD62734C0>, <function horizontal_mirror at 0x0000016DE4BC9120>]\n",
      "True\n"
     ]
    }
   ],
   "source": [
    "from src.symbolic_search.search import best_first_search\n",
    "from src.symbolic_search.verifier import verify_program\n",
    "from src.dsl.primitives import rotate90, horizontal_mirror\n",
    "\n",
    "inp = np.array([[1, 2], [3, 4]])\n",
    "out = horizontal_mirror(rotate90(inp))  # Compute the expected output\n",
    "\n",
    "program, found = best_first_search([inp], [out], [rotate90, horizontal_mirror], 2, verify_program)\n",
    "print(program)\n",
    "print(found)"
   ]
  }
 ],
 "metadata": {
  "kernelspec": {
   "display_name": ".venv",
   "language": "python",
   "name": "python3"
  },
  "language_info": {
   "codemirror_mode": {
    "name": "ipython",
    "version": 3
   },
   "file_extension": ".py",
   "mimetype": "text/x-python",
   "name": "python",
   "nbconvert_exporter": "python",
   "pygments_lexer": "ipython3",
   "version": "3.12.10"
  }
 },
 "nbformat": 4,
 "nbformat_minor": 5
}
